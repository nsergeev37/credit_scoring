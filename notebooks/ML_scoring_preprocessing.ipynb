{
 "cells": [
  {
   "cell_type": "code",
   "execution_count": 1,
   "metadata": {
    "ExecuteTime": {
     "end_time": "2025-08-12T16:55:05.832150Z",
     "start_time": "2025-08-12T16:54:59.125421Z"
    },
    "id": "eyxNjOyCzbFp"
   },
   "outputs": [],
   "source": [
    "import pandas as pd\n",
    "import numpy as np\n",
    "import seaborn as sns\n",
    "import matplotlib.pyplot as plt\n"
   ]
  },
  {
   "cell_type": "code",
   "execution_count": 2,
   "metadata": {
    "ExecuteTime": {
     "end_time": "2025-08-12T16:55:07.626464Z",
     "start_time": "2025-08-12T16:55:07.499712Z"
    },
    "colab": {
     "base_uri": "https://localhost:8080/"
    },
    "id": "NG9KHJWJxphI",
    "outputId": "511b7fdf-4a36-4f07-f6a5-1742722c7bba"
   },
   "outputs": [],
   "source": [
    "df = pd.read_csv(\"credit_risk_dataset.csv\")"
   ]
  },
  {
   "cell_type": "markdown",
   "metadata": {
    "id": "iRfjHfk7zrVb"
   },
   "source": [
    "Let's check our data for NaNs"
   ]
  },
  {
   "cell_type": "code",
   "execution_count": 3,
   "metadata": {
    "ExecuteTime": {
     "end_time": "2025-08-12T16:55:09.187915Z",
     "start_time": "2025-08-12T16:55:09.146544Z"
    },
    "id": "nOggATC3zZsS"
   },
   "outputs": [
    {
     "data": {
      "text/plain": [
       "person_age                       0\n",
       "person_income                    0\n",
       "person_home_ownership            0\n",
       "person_emp_length              895\n",
       "loan_intent                      0\n",
       "loan_grade                       0\n",
       "loan_amnt                        0\n",
       "loan_int_rate                 3116\n",
       "loan_status                      0\n",
       "loan_percent_income              0\n",
       "cb_person_default_on_file        0\n",
       "cb_person_cred_hist_length       0\n",
       "dtype: int64"
      ]
     },
     "execution_count": 3,
     "metadata": {},
     "output_type": "execute_result"
    }
   ],
   "source": [
    "df.isna().sum()"
   ]
  },
  {
   "cell_type": "markdown",
   "metadata": {
    "id": "7jT4iVJ30bLX"
   },
   "source": [
    "Too many NaNs in interest rate column, let's check if we could drop them"
   ]
  },
  {
   "cell_type": "code",
   "execution_count": 4,
   "metadata": {
    "ExecuteTime": {
     "end_time": "2025-08-12T16:55:15.010471Z",
     "start_time": "2025-08-12T16:55:14.881369Z"
    },
    "id": "zY-3lmnx0aeF"
   },
   "outputs": [
    {
     "name": "stdout",
     "output_type": "stream",
     "text": [
      "                            Rate is missing  Rate isn`t missing\n",
      "person_age                        27.922657           27.714712\n",
      "person_income                  66589.048460        66020.470490\n",
      "person_emp_length                  4.799213            4.788672\n",
      "loan_amnt                       9633.119384         9584.744612\n",
      "loan_int_rate                           NaN           11.011695\n",
      "loan_status                        0.206675            0.219379\n",
      "loan_percent_income                0.171088            0.170110\n",
      "cb_person_cred_hist_length         5.955071            5.788257\n"
     ]
    }
   ],
   "source": [
    "missing_rate = df[df['loan_int_rate'].isna()]\n",
    "not_missing = df[~df['loan_int_rate'].isna()]\n",
    "\n",
    "#comparing numeric feature values for \n",
    "compare_df = pd.DataFrame({\n",
    "    'Rate is missing': missing_rate.mean(numeric_only=True),\n",
    "    'Rate isn`t missing': not_missing.mean(numeric_only=True)\n",
    "})\n",
    "print(compare_df[['Rate is missing', 'Rate isn`t missing']])"
   ]
  },
  {
   "cell_type": "markdown",
   "metadata": {
    "id": "ABLhsSz408-R"
   },
   "source": [
    "Well, for now we can't say if these differences are significant, so let's check it using Welch's t-test"
   ]
  },
  {
   "cell_type": "code",
   "execution_count": 5,
   "metadata": {
    "ExecuteTime": {
     "end_time": "2025-08-12T16:55:41.868903Z",
     "start_time": "2025-08-12T16:55:41.787886Z"
    },
    "colab": {
     "base_uri": "https://localhost:8080/",
     "height": 211
    },
    "id": "QzdbCdFH08Tm",
    "outputId": "0b7c5b49-079c-4586-a3cf-af34730cc513"
   },
   "outputs": [
    {
     "data": {
      "text/html": [
       "<div>\n",
       "<style scoped>\n",
       "    .dataframe tbody tr th:only-of-type {\n",
       "        vertical-align: middle;\n",
       "    }\n",
       "\n",
       "    .dataframe tbody tr th {\n",
       "        vertical-align: top;\n",
       "    }\n",
       "\n",
       "    .dataframe thead th {\n",
       "        text-align: right;\n",
       "    }\n",
       "</style>\n",
       "<table border=\"1\" class=\"dataframe\">\n",
       "  <thead>\n",
       "    <tr style=\"text-align: right;\">\n",
       "      <th></th>\n",
       "      <th>Feature</th>\n",
       "      <th>average diff</th>\n",
       "      <th>p-value</th>\n",
       "      <th>Significant</th>\n",
       "    </tr>\n",
       "  </thead>\n",
       "  <tbody>\n",
       "    <tr>\n",
       "      <th>0</th>\n",
       "      <td>person_age</td>\n",
       "      <td>0.207945</td>\n",
       "      <td>0.101437</td>\n",
       "      <td>False</td>\n",
       "    </tr>\n",
       "    <tr>\n",
       "      <th>1</th>\n",
       "      <td>person_income</td>\n",
       "      <td>568.577969</td>\n",
       "      <td>0.630144</td>\n",
       "      <td>False</td>\n",
       "    </tr>\n",
       "    <tr>\n",
       "      <th>2</th>\n",
       "      <td>person_emp_length</td>\n",
       "      <td>0.010540</td>\n",
       "      <td>0.891119</td>\n",
       "      <td>False</td>\n",
       "    </tr>\n",
       "    <tr>\n",
       "      <th>3</th>\n",
       "      <td>loan_amnt</td>\n",
       "      <td>48.374772</td>\n",
       "      <td>0.686957</td>\n",
       "      <td>False</td>\n",
       "    </tr>\n",
       "    <tr>\n",
       "      <th>4</th>\n",
       "      <td>loan_int_rate</td>\n",
       "      <td>NaN</td>\n",
       "      <td>NaN</td>\n",
       "      <td>False</td>\n",
       "    </tr>\n",
       "    <tr>\n",
       "      <th>5</th>\n",
       "      <td>loan_status</td>\n",
       "      <td>-0.012704</td>\n",
       "      <td>0.096660</td>\n",
       "      <td>False</td>\n",
       "    </tr>\n",
       "    <tr>\n",
       "      <th>6</th>\n",
       "      <td>loan_percent_income</td>\n",
       "      <td>0.000978</td>\n",
       "      <td>0.624219</td>\n",
       "      <td>False</td>\n",
       "    </tr>\n",
       "    <tr>\n",
       "      <th>7</th>\n",
       "      <td>cb_person_cred_hist_length</td>\n",
       "      <td>0.166813</td>\n",
       "      <td>0.036934</td>\n",
       "      <td>True</td>\n",
       "    </tr>\n",
       "  </tbody>\n",
       "</table>\n",
       "</div>"
      ],
      "text/plain": [
       "                      Feature  average diff   p-value  Significant\n",
       "0                  person_age      0.207945  0.101437        False\n",
       "1               person_income    568.577969  0.630144        False\n",
       "2           person_emp_length      0.010540  0.891119        False\n",
       "3                   loan_amnt     48.374772  0.686957        False\n",
       "4               loan_int_rate           NaN       NaN        False\n",
       "5                 loan_status     -0.012704  0.096660        False\n",
       "6         loan_percent_income      0.000978  0.624219        False\n",
       "7  cb_person_cred_hist_length      0.166813  0.036934         True"
      ]
     },
     "execution_count": 5,
     "metadata": {},
     "output_type": "execute_result"
    }
   ],
   "source": [
    "from scipy.stats import ttest_ind\n",
    "\n",
    "numeric_cols = df.select_dtypes(include=np.number).columns.tolist()\n",
    "results = []\n",
    "\n",
    "for col in numeric_cols:\n",
    "\n",
    "    group_a = missing_rate[col].dropna()\n",
    "    group_b = not_missing[col].dropna()\n",
    "\n",
    "    t_stat, p_value = ttest_ind(group_a, group_b, equal_var=False)\n",
    "    mean_diff = group_a.mean() - group_b.mean()\n",
    "\n",
    "    results.append({\n",
    "        'Feature': col,\n",
    "        'average diff': mean_diff,\n",
    "        'p-value': p_value,\n",
    "        'Significant': p_value < 0.05\n",
    "    })\n",
    "\n",
    "\n",
    "results_df = pd.DataFrame(results)\n",
    "results_df\n",
    "\n"
   ]
  },
  {
   "cell_type": "markdown",
   "metadata": {
    "id": "1a0gK0BT3027"
   },
   "source": [
    "For at lest one feature difference is statistically significant, so we can't just drop it. Let's make a special feature of missing value instead.\n"
   ]
  },
  {
   "cell_type": "code",
   "execution_count": 6,
   "metadata": {
    "ExecuteTime": {
     "end_time": "2025-08-12T16:55:46.548111Z",
     "start_time": "2025-08-12T16:55:46.521911Z"
    },
    "id": "RSMgtl2L4doz"
   },
   "outputs": [
    {
     "data": {
      "text/plain": [
       "loan_grade\n",
       "A     7.490\n",
       "B    10.990\n",
       "C    13.480\n",
       "D    15.310\n",
       "E    16.820\n",
       "F    18.535\n",
       "G    20.160\n",
       "Name: loan_int_rate, dtype: float64"
      ]
     },
     "execution_count": 6,
     "metadata": {},
     "output_type": "execute_result"
    }
   ],
   "source": [
    "median_rates = df.groupby('loan_grade')['loan_int_rate'].median().sort_values()\n",
    "median_rates"
   ]
  },
  {
   "cell_type": "markdown",
   "metadata": {
    "id": "1bg35SOY4gTH"
   },
   "source": [
    "Also we can see, that median_rates are different for different credit grades (it can be seen even without statistical tests), so let's fill missing values with median value of corresponding grade"
   ]
  },
  {
   "cell_type": "code",
   "execution_count": 7,
   "metadata": {
    "ExecuteTime": {
     "end_time": "2025-08-12T16:55:50.460764Z",
     "start_time": "2025-08-12T16:55:50.420234Z"
    },
    "id": "CQrGCg7b40K2"
   },
   "outputs": [],
   "source": [
    "df['loan_int_rate'] = df.groupby('loan_grade')['loan_int_rate'].transform(\n",
    "    lambda x: x.fillna(x.median())\n",
    ")"
   ]
  },
  {
   "cell_type": "markdown",
   "metadata": {
    "id": "d5qspcHZ44Ij"
   },
   "source": [
    "For employment lwength we can just use median value"
   ]
  },
  {
   "cell_type": "code",
   "execution_count": 8,
   "metadata": {
    "ExecuteTime": {
     "end_time": "2025-08-12T16:56:00.122107Z",
     "start_time": "2025-08-12T16:56:00.113175Z"
    },
    "id": "LFuRY-3s43j7"
   },
   "outputs": [],
   "source": [
    "median_value = df['person_emp_length'].median()\n",
    "df['person_emp_length'].fillna(median_value, inplace=True)"
   ]
  },
  {
   "cell_type": "markdown",
   "metadata": {
    "id": "zAVbMin06YUV"
   },
   "source": [
    "Also, let's log income to avoid distortions that can happen due to people with too much income."
   ]
  },
  {
   "cell_type": "code",
   "execution_count": 9,
   "metadata": {
    "ExecuteTime": {
     "end_time": "2025-08-12T16:56:28.184448Z",
     "start_time": "2025-08-12T16:56:28.175684Z"
    },
    "id": "H8g9vf3J6ZBN"
   },
   "outputs": [],
   "source": [
    "df['log_income'] = np.log(df['person_income'])"
   ]
  },
  {
   "cell_type": "markdown",
   "metadata": {
    "id": "g8Pne0DS5eUq"
   },
   "source": [
    "**Encoding**"
   ]
  },
  {
   "cell_type": "markdown",
   "metadata": {
    "id": "31qYxWgx6cxr"
   },
   "source": [
    "Let's use ordinal encoding for credit grade"
   ]
  },
  {
   "cell_type": "code",
   "execution_count": 10,
   "metadata": {
    "ExecuteTime": {
     "end_time": "2025-08-12T16:56:33.264693Z",
     "start_time": "2025-08-12T16:56:33.249394Z"
    },
    "id": "KQQ4507b6kHX"
   },
   "outputs": [],
   "source": [
    "grade_order = {'A': 1, 'B': 2, 'C': 3, 'D': 4, 'E': 5, 'F': 6, 'G': 7}\n",
    "df['loan_grade'] = df['loan_grade'].map(grade_order)\n"
   ]
  },
  {
   "cell_type": "code",
   "execution_count": 11,
   "metadata": {
    "ExecuteTime": {
     "end_time": "2025-08-12T16:56:36.577437Z",
     "start_time": "2025-08-12T16:56:36.536887Z"
    },
    "id": "xE3yehvc6o8G"
   },
   "outputs": [
    {
     "data": {
      "text/plain": [
       "person_age                      58\n",
       "person_income                 4295\n",
       "person_home_ownership            4\n",
       "person_emp_length               36\n",
       "loan_intent                      6\n",
       "loan_grade                       7\n",
       "loan_amnt                      753\n",
       "loan_int_rate                  349\n",
       "loan_status                      2\n",
       "loan_percent_income             77\n",
       "cb_person_default_on_file        2\n",
       "cb_person_cred_hist_length      29\n",
       "log_income                    4295\n",
       "dtype: int64"
      ]
     },
     "execution_count": 11,
     "metadata": {},
     "output_type": "execute_result"
    }
   ],
   "source": [
    "df.nunique()"
   ]
  },
  {
   "cell_type": "markdown",
   "metadata": {
    "id": "ekgWeKuC6sIA"
   },
   "source": [
    "as we can see, for other categorical features, the number of unique values is not so large, so we can use one-hot-encoding."
   ]
  },
  {
   "cell_type": "code",
   "execution_count": 12,
   "metadata": {
    "ExecuteTime": {
     "end_time": "2025-08-12T16:56:41.807600Z",
     "start_time": "2025-08-12T16:56:41.764306Z"
    },
    "id": "kxX98jzK7LMD"
   },
   "outputs": [],
   "source": [
    "df = pd.get_dummies(df, columns=['person_home_ownership', 'loan_intent'])"
   ]
  },
  {
   "cell_type": "code",
   "execution_count": 13,
   "metadata": {
    "ExecuteTime": {
     "end_time": "2025-08-12T16:56:42.598086Z",
     "start_time": "2025-08-12T16:56:42.586151Z"
    },
    "id": "EbP8vcWT7Qqc"
   },
   "outputs": [],
   "source": [
    "hist_order = {'Y': 1, 'N': 0}\n",
    "df['cb_person_default_on_file'] = df['cb_person_default_on_file'].map(hist_order)"
   ]
  },
  {
   "cell_type": "markdown",
   "metadata": {
    "id": "X9tuT2Iz7zP9"
   },
   "source": [
    "Now let's check for outliers"
   ]
  },
  {
   "cell_type": "code",
   "execution_count": 14,
   "metadata": {
    "ExecuteTime": {
     "end_time": "2025-08-12T16:56:58.784581Z",
     "start_time": "2025-08-12T16:56:58.685165Z"
    },
    "id": "5BcWXcp-7sAn"
   },
   "outputs": [
    {
     "name": "stdout",
     "output_type": "stream",
     "text": [
      "                       column  outliers_count  percentage_outliers\n",
      "0                  person_age            1494             4.585495\n",
      "1                  log_income             578             1.774040\n",
      "2           person_emp_length             853             2.618090\n",
      "3                   loan_amnt            1689             5.184003\n",
      "4               loan_int_rate               6             0.018416\n",
      "5         loan_percent_income             651             1.998097\n",
      "6  cb_person_cred_hist_length            1142             3.505110\n"
     ]
    }
   ],
   "source": [
    "numeric_cols = [\n",
    "    'person_age',\n",
    "    'log_income',\n",
    "    'person_emp_length',\n",
    "    'loan_amnt',\n",
    "    'loan_int_rate',\n",
    "    'loan_percent_income',\n",
    "    'cb_person_cred_hist_length'\n",
    "]\n",
    "\n",
    "def count_outliers(column):\n",
    "    Q1 = column.quantile(0.25)\n",
    "    Q3 = column.quantile(0.75)\n",
    "    IQR = Q3 - Q1\n",
    "    lower_bound = Q1 - 1.5 * IQR\n",
    "    upper_bound = Q3 + 1.5 * IQR\n",
    "    outliers = column[(column < lower_bound) | (column > upper_bound)]\n",
    "    return len(outliers)\n",
    "\n",
    "outliers_stats = pd.DataFrame({\n",
    "    'column': numeric_cols,\n",
    "    'outliers_count': [count_outliers(df[col]) for col in numeric_cols],\n",
    "    'percentage_outliers': [count_outliers(df[col]) / len(df) * 100 for col in numeric_cols]\n",
    "})\n",
    "\n",
    "print(outliers_stats)"
   ]
  },
  {
   "cell_type": "code",
   "execution_count": 15,
   "metadata": {
    "ExecuteTime": {
     "end_time": "2025-08-12T16:57:16.920112Z",
     "start_time": "2025-08-12T16:57:09.507960Z"
    },
    "id": "nVUyYB6x8YAn"
   },
   "outputs": [
    {
     "data": {
      "image/png": "[encoded data removed]",
      "text/plain": [
       "<Figure size 1500x800 with 7 Axes>"
      ]
     },
     "metadata": {},
     "output_type": "display_data"
    }
   ],
   "source": [
    "plt.figure(figsize=(15, 8))\n",
    "for i, col in enumerate(numeric_cols, 1):\n",
    "    plt.subplot(2, 4, i)\n",
    "    df.boxplot(column=col)\n",
    "    plt.title(col)\n",
    "plt.tight_layout()\n",
    "plt.show()"
   ]
  },
  {
   "cell_type": "markdown",
   "metadata": {
    "id": "Z39H2qYO8ZBg"
   },
   "source": [
    "We can see from the charts that there are clearly abnormal values for age and work experience."
   ]
  },
  {
   "cell_type": "code",
   "execution_count": 16,
   "metadata": {
    "ExecuteTime": {
     "end_time": "2025-08-12T16:57:41.728862Z",
     "start_time": "2025-08-12T16:57:41.652045Z"
    },
    "id": "HUdhYHKn8hk8"
   },
   "outputs": [],
   "source": [
    "df_clean = df.copy()\n",
    "\n",
    "df_clean = df_clean[df_clean['person_age'] <= 100]\n",
    "\n",
    "df_clean = df_clean[df_clean['person_emp_length'] <= (df_clean['person_age'] - 10)]\n",
    "\n",
    "df_clean = df_clean[df_clean['cb_person_cred_hist_length'] <= (df_clean['person_age'] - 10)]\n"
   ]
  },
  {
   "cell_type": "markdown",
   "metadata": {
    "id": "_6Rv8Cvs8toY"
   },
   "source": [
    "Now let's normalize our data"
   ]
  },
  {
   "cell_type": "code",
   "execution_count": 17,
   "metadata": {
    "ExecuteTime": {
     "end_time": "2025-08-12T16:57:46.094556Z",
     "start_time": "2025-08-12T16:57:44.760649Z"
    },
    "id": "hZHkLwFe82dg"
   },
   "outputs": [],
   "source": [
    "from sklearn.preprocessing import StandardScaler\n",
    "df_normalized = df_clean.copy()\n",
    "scaler = StandardScaler()\n",
    "df_normalized[numeric_cols] = scaler.fit_transform(df_normalized[numeric_cols])\n"
   ]
  },
  {
   "cell_type": "code",
   "execution_count": 18,
   "metadata": {
    "ExecuteTime": {
     "end_time": "2025-08-12T16:57:49.255291Z",
     "start_time": "2025-08-12T16:57:49.234636Z"
    },
    "id": "3og5RwMF88Xi"
   },
   "outputs": [],
   "source": [
    "df_normalized=df_normalized.drop('person_income',axis=1)"
   ]
  },
  {
   "cell_type": "code",
   "execution_count": 20,
   "metadata": {
    "ExecuteTime": {
     "end_time": "2025-08-12T17:00:41.018354Z",
     "start_time": "2025-08-12T17:00:40.098397Z"
    },
    "id": "KNNVUZkq881X"
   },
   "outputs": [],
   "source": [
    "\n",
    "df_normalized.to_csv('Untitled Folder/processed_data.csv', index=False)"
   ]
  },
  {
   "cell_type": "code",
   "execution_count": null,
   "metadata": {},
   "outputs": [],
   "source": []
  }
 ],
 "metadata": {
  "colab": {
   "provenance": []
  },
  "kernelspec": {
   "display_name": "Python 3 (ipykernel)",
   "language": "python",
   "name": "python3"
  },
  "language_info": {
   "codemirror_mode": {
    "name": "ipython",
    "version": 3
   },
   "file_extension": ".py",
   "mimetype": "text/x-python",
   "name": "python",
   "nbconvert_exporter": "python",
   "pygments_lexer": "ipython3",
   "version": "3.11.5"
  },
  "toc": {
   "base_numbering": 1,
   "nav_menu": {},
   "number_sections": true,
   "sideBar": true,
   "skip_h1_title": false,
   "title_cell": "Table of Contents",
   "title_sidebar": "Contents",
   "toc_cell": false,
   "toc_position": {},
   "toc_section_display": true,
   "toc_window_display": false
  }
 },
 "nbformat": 4,
 "nbformat_minor": 1
}
